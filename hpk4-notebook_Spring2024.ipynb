{
 "cells": [
  {
   "cell_type": "markdown",
   "id": "95e4e814-ebb3-4cc1-bb6d-d84f1d311ccb",
   "metadata": {},
   "source": [
    "# Learning Notebook Spring 2024\n",
    "\n",
    "Author: Hannah Kania\n",
    "\n",
    "The following notebook includes Hannah Kania's notebook from Spring 2024 of BIO724D."
   ]
  },
  {
   "cell_type": "code",
   "execution_count": 1,
   "id": "9ba1fe08-63c0-4443-ad0e-588aed068fba",
   "metadata": {},
   "outputs": [
    {
     "name": "stdout",
     "output_type": "stream",
     "text": [
      "Deploy FastAPI apps for free on Ploomber Cloud! Learn more: https://ploomber.io/s/signup\n"
     ]
    }
   ],
   "source": [
    "# load the libraries we will need\n",
    "import numpy as np\n",
    "import pandas as pd\n",
    "import duckdb\n",
    "from matplotlib import pyplot as plt\n",
    "import seaborn as sns\n",
    "import math\n",
    "\n",
    "# use a magic to load the JupySQL extension\n",
    "%load_ext sql"
   ]
  },
  {
   "cell_type": "code",
   "execution_count": 2,
   "id": "c1c29eff-a66d-47ff-97d3-2062f01f5d7f",
   "metadata": {},
   "outputs": [
    {
     "data": {
      "text/html": [
       "<span style=\"None\">Connecting to &#x27;duckdb://&#x27;</span>"
      ],
      "text/plain": [
       "Connecting to 'duckdb://'"
      ]
     },
     "metadata": {},
     "output_type": "display_data"
    }
   ],
   "source": [
    "%sql duckdb://"
   ]
  },
  {
   "cell_type": "markdown",
   "id": "3cabff0a-3010-424e-9ef1-b9a864f6f2d9",
   "metadata": {},
   "source": [
    "### Problem Set 12"
   ]
  },
  {
   "cell_type": "markdown",
   "id": "38c02175-53e5-454e-aa4b-c13e308b370b",
   "metadata": {},
   "source": [
    "#### General notes\n",
    "Assignment works the same as R\n",
    "** is exponent not ^\n",
    "\n",
    "Four common data types: int, float, str, bool\n",
    "Data structures: list, tuple, set, dictionary\n",
    "Libraries: NumPy & Pandas\n",
    "\n",
    "#### Lists & Dictionaries\n",
    "Can hold mix of objects and can be nested\n",
    "Lists are indexed by position\n",
    "Dictionaries are indexed by keys\n",
    "\n",
    "\n",
    "#### Iterables in python\n",
    "Containers and strings\n",
    "Basic data types only hold single values\n",
    "\n",
    "#### Immutable versus mutable\n",
    "Immutable ojects take up less memory\n",
    "\n",
    "#### When calling functions\n",
    "Need to specify libraries when calling function\n",
    "ie. my_result = math.factorial(3) (math = library, factorial = function)\n",
    "\n",
    "#### Resources\n",
    "Software carpentry\n",
    "Wikiversity\n",
    "w3schools\n",
    "The python standard library***\n",
    "\n",
    "\n",
    "#### Random Snippets\n",
    "Kernel menu will interrupt the process running if you are stuck in a for loop or if you want to get rid of everything in memory and re-evaluate it will allow you to do that"
   ]
  },
  {
   "cell_type": "markdown",
   "id": "e31a01c3-00f4-4574-9000-a85f1de7bd3b",
   "metadata": {},
   "source": [
    "### Problem Set 13"
   ]
  },
  {
   "cell_type": "markdown",
   "id": "d0973344-6777-475b-a390-522af6b011ce",
   "metadata": {},
   "source": [
    "#### How to unzip the zip function \n",
    "* from this post on stackoverflow: https://stackoverflow.com/questions/13635032/what-is-the-inverse-function-of-zip-in-python"
   ]
  },
  {
   "cell_type": "code",
   "execution_count": null,
   "id": "675e5870-8639-4fe3-9852-8efbbed162aa",
   "metadata": {},
   "outputs": [],
   "source": [
    "x = [1, 2, 3]\n",
    "y = [4, 5, 6]\n",
    "example_list = list(zip(x, y))\n",
    "print(example_list)"
   ]
  },
  {
   "cell_type": "code",
   "execution_count": null,
   "id": "419066b9-a7c1-4fed-986f-7cc746cd91b0",
   "metadata": {},
   "outputs": [],
   "source": [
    "example_unzipped_list = list(zip(*example_list))\n",
    "print(example_unzipped_list) #new lists inside lists are actually tuples and to sort you need to extract and make a lists"
   ]
  },
  {
   "cell_type": "markdown",
   "id": "4a6d8bfb-adb8-4941-88f1-3f7a083e9ef0",
   "metadata": {},
   "source": [
    "#### Some class notes\n",
    "* Lists are slow and require more memory than sets and tuples.\n",
    "* Tuple is read-only version of a list & useful for rapid access. Immutable.\n",
    "* Sets do not have order, which makes them very efficient.\n",
    "* Triple quoted strings allow you to use special characters like tabs and newlines in a string without explicitly writing their string literal forms."
   ]
  },
  {
   "cell_type": "markdown",
   "id": "96c532d5-0040-4a3d-9b66-9acd14667fec",
   "metadata": {},
   "source": [
    "### Problem Set 14"
   ]
  },
  {
   "cell_type": "code",
   "execution_count": null,
   "id": "162289fa-cf7a-4095-8cee-26d5385e496b",
   "metadata": {},
   "outputs": [],
   "source": [
    "# general structure of a nested for loop\n",
    "init_conditions = [[1,1,0], [1,0,1]]\n",
    "\n",
    "for condition in init_conditions:\n",
    "    v1,v2,v3 = condition\n",
    "    V1 = [v1]\n",
    "    V2 = [v2]\n",
    "    V3 = [v3]\n",
    "    for tick in range(nticks):\n",
    "        #do something & update v1, v2, v3"
   ]
  },
  {
   "cell_type": "code",
   "execution_count": null,
   "id": "cc877951-1587-40d8-817f-dfdd8c12f700",
   "metadata": {},
   "outputs": [],
   "source": [
    "# create nested for loop structure, could also use combinations\n",
    "for i in [0,1]:\n",
    "    for j in [0,1]:\n",
    "        init_condition.append([i,j])"
   ]
  },
  {
   "cell_type": "code",
   "execution_count": 4,
   "id": "db538032-dd51-46a7-a5a3-477f89f8824d",
   "metadata": {},
   "outputs": [
    {
     "data": {
      "text/plain": [
       "[(0, 0, 0),\n",
       " (0, 0, 1),\n",
       " (0, 1, 0),\n",
       " (0, 1, 1),\n",
       " (1, 0, 0),\n",
       " (1, 0, 1),\n",
       " (1, 1, 0),\n",
       " (1, 1, 1)]"
      ]
     },
     "execution_count": 4,
     "metadata": {},
     "output_type": "execute_result"
    }
   ],
   "source": [
    "#using combinations from itertools\n",
    "from itertools import combinations, product\n",
    "list(product([0,1],repeat=3))"
   ]
  },
  {
   "cell_type": "markdown",
   "id": "f6da75a1-451e-4727-b1c3-ae1921ad563f",
   "metadata": {},
   "source": [
    "### Problem Set 15"
   ]
  },
  {
   "cell_type": "markdown",
   "id": "c60ac9c9-3aa0-4fb7-b3fe-13670477983c",
   "metadata": {},
   "source": [
    "#### From Matplotlib:\n",
    "* Basic plot parameters including colors & linestyles: https://matplotlib.org/2.1.1/api/_as_gen/matplotlib.pyplot.plot.html & https://matplotlib.org/stable/gallery/lines_bars_and_markers/linestyles.html\n",
    "* Adding vertical lines to graphs:\n",
    "https://matplotlib.org/stable/api/_as_gen/matplotlib.pyplot.vlines.html"
   ]
  },
  {
   "cell_type": "code",
   "execution_count": null,
   "id": "2123d0d3-5865-4b15-8f3e-43a5c5ab2faa",
   "metadata": {},
   "outputs": [],
   "source": [
    "# Basic numpy functions that you can use in arrays (I did not know numpy included basic math functions)\n",
    "np.log() # gives log value, otherwise commonly known as ln in functions\n",
    "np.mean() # calculates means of an array"
   ]
  },
  {
   "cell_type": "markdown",
   "id": "518c70b4-550c-439f-8134-6ead044c4f30",
   "metadata": {},
   "source": [
    "### Problem Set 16"
   ]
  },
  {
   "cell_type": "code",
   "execution_count": 50,
   "id": "e7c37b70-3afc-42a4-a1a4-ece1f982e430",
   "metadata": {},
   "outputs": [
    {
     "data": {
      "text/html": [
       "<div>\n",
       "<style scoped>\n",
       "    .dataframe tbody tr th:only-of-type {\n",
       "        vertical-align: middle;\n",
       "    }\n",
       "\n",
       "    .dataframe tbody tr th {\n",
       "        vertical-align: top;\n",
       "    }\n",
       "\n",
       "    .dataframe thead th {\n",
       "        text-align: right;\n",
       "    }\n",
       "</style>\n",
       "<table border=\"1\" class=\"dataframe\">\n",
       "  <thead>\n",
       "    <tr style=\"text-align: right;\">\n",
       "      <th></th>\n",
       "      <th>Gene</th>\n",
       "      <th>Start</th>\n",
       "      <th>Stop</th>\n",
       "      <th>Product</th>\n",
       "    </tr>\n",
       "  </thead>\n",
       "  <tbody>\n",
       "    <tr>\n",
       "      <th>0</th>\n",
       "      <td>ORF1ab</td>\n",
       "      <td>266</td>\n",
       "      <td>21555</td>\n",
       "      <td>ORF1ab polyprotein</td>\n",
       "    </tr>\n",
       "    <tr>\n",
       "      <th>1</th>\n",
       "      <td>S</td>\n",
       "      <td>21563</td>\n",
       "      <td>25384</td>\n",
       "      <td>surface glycoprotein</td>\n",
       "    </tr>\n",
       "    <tr>\n",
       "      <th>2</th>\n",
       "      <td>E</td>\n",
       "      <td>26245</td>\n",
       "      <td>26472</td>\n",
       "      <td>envelope protein</td>\n",
       "    </tr>\n",
       "    <tr>\n",
       "      <th>3</th>\n",
       "      <td>M</td>\n",
       "      <td>26523</td>\n",
       "      <td>27191</td>\n",
       "      <td>membrane glycoprotein</td>\n",
       "    </tr>\n",
       "    <tr>\n",
       "      <th>4</th>\n",
       "      <td>N</td>\n",
       "      <td>28274</td>\n",
       "      <td>29533</td>\n",
       "      <td>nucleocapsid phosphoprotein</td>\n",
       "    </tr>\n",
       "  </tbody>\n",
       "</table>\n",
       "</div>"
      ],
      "text/plain": [
       "     Gene  Start   Stop                      Product\n",
       "0  ORF1ab    266  21555           ORF1ab polyprotein\n",
       "1       S  21563  25384         surface glycoprotein\n",
       "2       E  26245  26472             envelope protein\n",
       "3       M  26523  27191        membrane glycoprotein\n",
       "4       N  28274  29533  nucleocapsid phosphoprotein"
      ]
     },
     "execution_count": 50,
     "metadata": {},
     "output_type": "execute_result"
    }
   ],
   "source": [
    "df = pd.DataFrame(\n",
    "    {\n",
    "    \"Gene\": [\"ORF1ab\", \"S\", \"E\", \"M\", \"N\"],\n",
    "    \"Start\": [266,  21563, 26245, 26523, 28274],\n",
    "    \"Stop\": [21555, 25384, 26472, 27191, 29533],\n",
    "    \"Product\": [\"ORF1ab polyprotein\", \"surface glycoprotein\", \n",
    "                \"envelope protein\", \"membrane glycoprotein\",\n",
    "                \"nucleocapsid phosphoprotein\"]\n",
    "    }\n",
    ")\n",
    "\n",
    "#keys become column names, values become entries\n",
    "\n",
    "df"
   ]
  },
  {
   "cell_type": "markdown",
   "id": "2646f69b-4c70-48cb-9856-f41744b1d06a",
   "metadata": {},
   "source": [
    "#### .loc()\n",
    "* inclusive slice on both ends"
   ]
  },
  {
   "cell_type": "code",
   "execution_count": 60,
   "id": "b4e4eab0-a9a6-4aa2-ae7c-0972cc668cbd",
   "metadata": {},
   "outputs": [
    {
     "data": {
      "text/html": [
       "<div>\n",
       "<style scoped>\n",
       "    .dataframe tbody tr th:only-of-type {\n",
       "        vertical-align: middle;\n",
       "    }\n",
       "\n",
       "    .dataframe tbody tr th {\n",
       "        vertical-align: top;\n",
       "    }\n",
       "\n",
       "    .dataframe thead th {\n",
       "        text-align: right;\n",
       "    }\n",
       "</style>\n",
       "<table border=\"1\" class=\"dataframe\">\n",
       "  <thead>\n",
       "    <tr style=\"text-align: right;\">\n",
       "      <th></th>\n",
       "      <th>Start</th>\n",
       "      <th>Stop</th>\n",
       "    </tr>\n",
       "  </thead>\n",
       "  <tbody>\n",
       "    <tr>\n",
       "      <th>1</th>\n",
       "      <td>21563</td>\n",
       "      <td>25384</td>\n",
       "    </tr>\n",
       "    <tr>\n",
       "      <th>2</th>\n",
       "      <td>26245</td>\n",
       "      <td>26472</td>\n",
       "    </tr>\n",
       "    <tr>\n",
       "      <th>3</th>\n",
       "      <td>26523</td>\n",
       "      <td>27191</td>\n",
       "    </tr>\n",
       "  </tbody>\n",
       "</table>\n",
       "</div>"
      ],
      "text/plain": [
       "   Start   Stop\n",
       "1  21563  25384\n",
       "2  26245  26472\n",
       "3  26523  27191"
      ]
     },
     "execution_count": 60,
     "metadata": {},
     "output_type": "execute_result"
    }
   ],
   "source": [
    "df.loc[1:3, \"Start\":\"Stop\"] #always inclusive of the start and end of the slice -- don't forget 0"
   ]
  },
  {
   "cell_type": "markdown",
   "id": "d29a61ae-536a-471d-95d0-282d07992268",
   "metadata": {},
   "source": [
    "### Problem Set 17"
   ]
  },
  {
   "cell_type": "code",
   "execution_count": 13,
   "id": "ef350cf7-a5e3-4a91-a65b-60333c02688c",
   "metadata": {},
   "outputs": [
    {
     "data": {
      "text/plain": [
       "array([False,  True,  True,  True,  True, False, False, False, False,\n",
       "       False, False, False, False, False, False, False, False, False,\n",
       "       False, False, False, False, False, False, False, False, False,\n",
       "       False, False, False, False, False, False, False, False, False,\n",
       "       False, False, False, False, False, False, False, False, False,\n",
       "       False, False, False, False, False, False, False, False, False,\n",
       "       False, False, False, False, False, False, False, False, False,\n",
       "       False, False, False, False, False, False, False, False, False,\n",
       "       False, False, False, False, False, False])"
      ]
     },
     "execution_count": 13,
     "metadata": {},
     "output_type": "execute_result"
    }
   ],
   "source": [
    "yeast.columns.str.match(\"cln|clb\")\n",
    "#attribute on pandas array lets you treat values as strings and perform\n",
    "#string operations in a vectorized manner\n",
    "#returns a boolean"
   ]
  },
  {
   "cell_type": "code",
   "execution_count": 18,
   "id": "f44b76a7-9c61-49ed-9576-275565fa35db",
   "metadata": {},
   "outputs": [],
   "source": [
    "to_drop = yeast.columns[yeast.columns.str.match(\"cln|clb\")]\n",
    "#returns subset of specified things\n",
    "yeast = yeast.drop(to_drop, axis = 1)\n",
    "#remove non time-series data"
   ]
  },
  {
   "cell_type": "markdown",
   "id": "6f879f94-5e4f-47f5-ae94-bd6333a7594e",
   "metadata": {},
   "source": [
    "### Problem Set 18"
   ]
  },
  {
   "cell_type": "markdown",
   "id": "a8ddbe65-5c86-4a27-a7ee-f49eaf348c93",
   "metadata": {
    "tags": []
   },
   "source": [
    "#### Nested queries"
   ]
  },
  {
   "cell_type": "code",
   "execution_count": 63,
   "id": "aca7df97-c46d-4bae-9f6b-4d9e4d47fe4c",
   "metadata": {},
   "outputs": [
    {
     "data": {
      "text/html": [
       "<span style=\"None\">Running query in &#x27;duckdb://&#x27;</span>"
      ],
      "text/plain": [
       "Running query in 'duckdb://'"
      ]
     },
     "metadata": {},
     "output_type": "display_data"
    },
    {
     "data": {
      "text/html": [
       "<table>\n",
       "    <thead>\n",
       "        <tr>\n",
       "            <th>species</th>\n",
       "            <th>common name</th>\n",
       "        </tr>\n",
       "    </thead>\n",
       "    <tbody>\n",
       "        <tr>\n",
       "            <td>Tockus jacksoni</td>\n",
       "            <td>Jackson’s Hornbill</td>\n",
       "        </tr>\n",
       "        <tr>\n",
       "            <td>Ocyceros birostris</td>\n",
       "            <td>Indian Grey Hornbill</td>\n",
       "        </tr>\n",
       "        <tr>\n",
       "            <td>Tockus erythrorhynchus</td>\n",
       "            <td>Northern Red-billed Hornbill</td>\n",
       "        </tr>\n",
       "        <tr>\n",
       "            <td>Tockus deckeni</td>\n",
       "            <td>Von der Decken’s Hornbill</td>\n",
       "        </tr>\n",
       "        <tr>\n",
       "            <td>Lophoceros alboterminatus</td>\n",
       "            <td>Crowned Hornbill</td>\n",
       "        </tr>\n",
       "        <tr>\n",
       "            <td>Bycanistes brevis</td>\n",
       "            <td>Silvery-cheeked Hornbill</td>\n",
       "        </tr>\n",
       "        <tr>\n",
       "            <td>Buceros bicornis</td>\n",
       "            <td>Great Hornbill</td>\n",
       "        </tr>\n",
       "        <tr>\n",
       "            <td>Anthracoceros albirostris</td>\n",
       "            <td>Oriental Pied Hornbill</td>\n",
       "        </tr>\n",
       "        <tr>\n",
       "            <td>Tockus ruahae</td>\n",
       "            <td>Tanzanian Red-billed Hornbill</td>\n",
       "        </tr>\n",
       "        <tr>\n",
       "            <td>Lophoceros nasutus</td>\n",
       "            <td>African Grey Hornbill</td>\n",
       "        </tr>\n",
       "        <tr>\n",
       "            <td>Bycanistes bucinator</td>\n",
       "            <td>Trumpeter Hornbill</td>\n",
       "        </tr>\n",
       "        <tr>\n",
       "            <td>Bycanistes subcylindricus</td>\n",
       "            <td>Black-and-white-casqued Hornbill</td>\n",
       "        </tr>\n",
       "        <tr>\n",
       "            <td>Anorrhinus galeritus</td>\n",
       "            <td>Bushy-crested Hornbill</td>\n",
       "        </tr>\n",
       "        <tr>\n",
       "            <td>Buceros rhinoceros</td>\n",
       "            <td>Rhinoceros Hornbill</td>\n",
       "        </tr>\n",
       "    </tbody>\n",
       "</table>"
      ],
      "text/plain": [
       "+---------------------------+----------------------------------+\n",
       "|          species          |           common name            |\n",
       "+---------------------------+----------------------------------+\n",
       "|      Tockus jacksoni      |        Jackson’s Hornbill        |\n",
       "|     Ocyceros birostris    |       Indian Grey Hornbill       |\n",
       "|   Tockus erythrorhynchus  |   Northern Red-billed Hornbill   |\n",
       "|       Tockus deckeni      |    Von der Decken’s Hornbill     |\n",
       "| Lophoceros alboterminatus |         Crowned Hornbill         |\n",
       "|     Bycanistes brevis     |     Silvery-cheeked Hornbill     |\n",
       "|      Buceros bicornis     |          Great Hornbill          |\n",
       "| Anthracoceros albirostris |      Oriental Pied Hornbill      |\n",
       "|       Tockus ruahae       |  Tanzanian Red-billed Hornbill   |\n",
       "|     Lophoceros nasutus    |      African Grey Hornbill       |\n",
       "|    Bycanistes bucinator   |        Trumpeter Hornbill        |\n",
       "| Bycanistes subcylindricus | Black-and-white-casqued Hornbill |\n",
       "|    Anorrhinus galeritus   |      Bushy-crested Hornbill      |\n",
       "|     Buceros rhinoceros    |       Rhinoceros Hornbill        |\n",
       "+---------------------------+----------------------------------+"
      ]
     },
     "execution_count": 63,
     "metadata": {},
     "output_type": "execute_result"
    }
   ],
   "source": [
    "%%sql\n",
    "SELECT \n",
    "    CONCAT(genus_ioc, ' ', species_ioc) AS species,\n",
    "    familiar_ioc AS 'common name'\n",
    "FROM\n",
    "    species\n",
    "WHERE\n",
    "    genus_ioc IN (                             -- nested query, inner query runs first; pulls data from 2 different tables\n",
    "        SELECT genus_ioc\n",
    "        FROM genera\n",
    "        WHERE family_ioc = 'Bucerotidae' )\n",
    "GROUP BY\n",
    "    genus_ioc,\n",
    "    species_ioc,\n",
    "    familiar_ioc\n",
    ";"
   ]
  },
  {
   "cell_type": "markdown",
   "id": "9ced97b1-aa7d-4557-b445-4c4db61de1a5",
   "metadata": {},
   "source": [
    "#### Joins"
   ]
  },
  {
   "cell_type": "code",
   "execution_count": 64,
   "id": "e7fdbc14-1eec-42e5-8b53-e269c797bb7c",
   "metadata": {
    "scrolled": true
   },
   "outputs": [
    {
     "data": {
      "text/html": [
       "<span style=\"None\">Running query in &#x27;duckdb://&#x27;</span>"
      ],
      "text/plain": [
       "Running query in 'duckdb://'"
      ]
     },
     "metadata": {},
     "output_type": "display_data"
    },
    {
     "data": {
      "text/html": [
       "<table>\n",
       "    <thead>\n",
       "        <tr>\n",
       "            <th>country</th>\n",
       "            <th>num_species</th>\n",
       "        </tr>\n",
       "    </thead>\n",
       "    <tbody>\n",
       "        <tr>\n",
       "            <td>Costa Rica</td>\n",
       "            <td>385</td>\n",
       "        </tr>\n",
       "        <tr>\n",
       "            <td>Kenya</td>\n",
       "            <td>309</td>\n",
       "        </tr>\n",
       "        <tr>\n",
       "            <td>United States of America</td>\n",
       "            <td>300</td>\n",
       "        </tr>\n",
       "        <tr>\n",
       "            <td>None</td>\n",
       "            <td>276</td>\n",
       "        </tr>\n",
       "        <tr>\n",
       "            <td>Ecuador</td>\n",
       "            <td>263</td>\n",
       "        </tr>\n",
       "        <tr>\n",
       "            <td>Tanzania</td>\n",
       "            <td>260</td>\n",
       "        </tr>\n",
       "        <tr>\n",
       "            <td>India</td>\n",
       "            <td>252</td>\n",
       "        </tr>\n",
       "        <tr>\n",
       "            <td>Panama</td>\n",
       "            <td>191</td>\n",
       "        </tr>\n",
       "        <tr>\n",
       "            <td>Peru</td>\n",
       "            <td>188</td>\n",
       "        </tr>\n",
       "        <tr>\n",
       "            <td>Australia</td>\n",
       "            <td>169</td>\n",
       "        </tr>\n",
       "    </tbody>\n",
       "</table>"
      ],
      "text/plain": [
       "+--------------------------+-------------+\n",
       "|         country          | num_species |\n",
       "+--------------------------+-------------+\n",
       "|        Costa Rica        |     385     |\n",
       "|          Kenya           |     309     |\n",
       "| United States of America |     300     |\n",
       "|           None           |     276     |\n",
       "|         Ecuador          |     263     |\n",
       "|         Tanzania         |     260     |\n",
       "|          India           |     252     |\n",
       "|          Panama          |     191     |\n",
       "|           Peru           |     188     |\n",
       "|        Australia         |     169     |\n",
       "+--------------------------+-------------+"
      ]
     },
     "execution_count": 64,
     "metadata": {},
     "output_type": "execute_result"
    }
   ],
   "source": [
    "%%sql\n",
    "-- how many species greg has seen in every country he has visited\n",
    "-- requires grouping & counting distinct locations in the observation table \n",
    "-- as well as a left join of the locations table onto the observations table based on location name\n",
    "-- none row corresponds to when there is not a macth to the location table\n",
    "SELECT\n",
    "    country_name AS country,\n",
    "    COUNT(DISTINCT (genus_ioc, species_ioc)) AS num_species\n",
    "FROM\n",
    "    observations AS o\n",
    "    LEFT JOIN locations AS l\n",
    "    ON o.location_name = l.location_name\n",
    "GROUP BY\n",
    "    country\n",
    "ORDER BY\n",
    "    num_species DESC\n",
    "LIMIT\n",
    "    10;"
   ]
  },
  {
   "cell_type": "markdown",
   "id": "7368a943-3a08-4af5-9f21-56e5788a59ca",
   "metadata": {},
   "source": [
    "### Problem Set 19"
   ]
  },
  {
   "cell_type": "markdown",
   "id": "ae0594f1-5211-43b0-9b0c-2102e2fe5e61",
   "metadata": {
    "tags": []
   },
   "source": [
    "#### Working with SQL within Python"
   ]
  },
  {
   "cell_type": "code",
   "execution_count": null,
   "id": "4c5063a0-c7af-429f-981b-a8d023d6c00f",
   "metadata": {},
   "outputs": [],
   "source": [
    "%%sql\n",
    "SELECT * FROM trips ORDER BY start_date LIMIT 4;"
   ]
  },
  {
   "cell_type": "code",
   "execution_count": null,
   "id": "2e69533c-87fd-4aaa-b0ff-73753faa6db7",
   "metadata": {},
   "outputs": [],
   "source": [
    "#python code for same thing\n",
    "result = %sql SELECT * FROM trips ORDER BY start_date LIMIT 4;"
   ]
  },
  {
   "cell_type": "code",
   "execution_count": null,
   "id": "93b70092-5ef5-4f82-bc6e-d5361e9f2a06",
   "metadata": {},
   "outputs": [],
   "source": [
    "print(result)"
   ]
  },
  {
   "cell_type": "markdown",
   "id": "c1739090-7d2a-4efb-a45a-3135e44c7edd",
   "metadata": {},
   "source": [
    "***FIRST NORMAL FORM***\n",
    "* Don't use row order to convey information\n",
    "* Do not mix data types within a column\n",
    "* Do not use repeating groups (lists, tuples, dictionaries)\n",
    "* A primary key is required\n",
    "\n",
    "***SECOND NORMAL FORM***\n",
    "* each non-primary key column must depend on the primary KEY, if not, put it in another table\n",
    "* example: individual, age, weather (weather should be in another table)\n",
    "\n",
    "***THIRD NORMAL FORM***\n",
    "* each non-primary key column must depend ONLY on the primary key, if not, put it in another table\n",
    "* example: individual, age, mother, troop, troop number (troop number should be in another table)"
   ]
  },
  {
   "cell_type": "markdown",
   "id": "2d2dbbda-075e-468d-9d73-80bd69bd4ad0",
   "metadata": {},
   "source": [
    "### Problem Set 20"
   ]
  },
  {
   "cell_type": "markdown",
   "id": "fcc4a2ad-862c-4164-973b-87ef548f2cb5",
   "metadata": {},
   "source": [
    "#### Web Resources for Data Viz:\n",
    "\n",
    "* From Data to Viz: https://www.data-to-viz.com/\n",
    "\n",
    "* FriendsDontLetFriends: https://github.com/cxli233/FriendsDontLetFriends\n",
    "\n",
    "* R Graph Gallery: http://rgraphgallery.blogspot.com/\n",
    "\n",
    "* MatPlotLib Examples: https://matplotlib.org/stable/plot_types/index.html\n",
    "\n",
    "* Seaborn Gallery: https://seaborn.pydata.org/examples/index.html"
   ]
  }
 ],
 "metadata": {
  "kernelspec": {
   "display_name": "Python 3 (ipykernel)",
   "language": "python",
   "name": "python3"
  },
  "language_info": {
   "codemirror_mode": {
    "name": "ipython",
    "version": 3
   },
   "file_extension": ".py",
   "mimetype": "text/x-python",
   "name": "python",
   "nbconvert_exporter": "python",
   "pygments_lexer": "ipython3",
   "version": "3.9.12"
  }
 },
 "nbformat": 4,
 "nbformat_minor": 5
}
